{
 "cells": [
  {
   "cell_type": "code",
   "execution_count": 2,
   "id": "3b4a8330",
   "metadata": {},
   "outputs": [],
   "source": [
    "from db_manager.AugurInterface import AugurInterface\n",
    "import pandas as pd"
   ]
  },
  {
   "cell_type": "code",
   "execution_count": 3,
   "id": "40ffa711",
   "metadata": {},
   "outputs": [],
   "source": [
    "augur_db = AugurInterface()\n",
    "augur_db.load_pconfig([\n",
    "    \"cali\",\n",
    "    \"!baseball21\",\n",
    "    \"chaoss.tv\",\n",
    "    \"5432\",\n",
    "    \"padres\",\n",
    "    \"augur_data\",\n",
    "])\n",
    "engine = augur_db.get_engine()\n",
    "if engine is None:\n",
    "    print(\"No Engine.\")"
   ]
  },
  {
   "cell_type": "code",
   "execution_count": 4,
   "id": "a06d5df8",
   "metadata": {},
   "outputs": [],
   "source": [
    "repo = 36109 \n",
    "\n",
    "query_string = f\"\"\"\n",
    "                    SELECT\n",
    "                        --r.repo_name,\n",
    "                        --c.cmt_commit_hash AS commits,\n",
    "                        --c.cmt_id AS file,\n",
    "                        --c.cmt_added AS lines_added,\n",
    "                        --c.cmt_removed AS lines_removed,\n",
    "                        --c.cmt_committer_date AS date,\n",
    "                        c.cmt_committer_timestamp as timestamp\n",
    "                    FROM\n",
    "                        repo r\n",
    "                    JOIN commits c\n",
    "                    ON r.repo_id = c.repo_id\n",
    "                    WHERE\n",
    "                        c.repo_id = {repo}\n",
    "                    order by timestamp asc\n",
    "                    \"\"\""
   ]
  },
  {
   "cell_type": "code",
   "execution_count": 5,
   "id": "099f0a42",
   "metadata": {},
   "outputs": [
    {
     "name": "stdout",
     "output_type": "stream",
     "text": [
      "                   timestamp  posix_ts_int\n",
      "0  2005-04-16 17:20:36-05:00    1113690036\n",
      "1  2005-04-16 17:20:36-05:00    1113690036\n",
      "2  2005-04-16 17:20:36-05:00    1113690036\n",
      "3  2005-04-16 17:20:36-05:00    1113690036\n",
      "4  2005-04-16 17:20:36-05:00    1113690036\n"
     ]
    }
   ],
   "source": [
    "df_commits = augur_db.run_query(query_string)\n",
    "df_commits[\"posix_ts_int\"] = pd.to_datetime(df_commits[\"timestamp\"], utc=True).map(pd.Timestamp.timestamp).astype('int64')\n",
    "print(df_commits.head())"
   ]
  },
  {
   "cell_type": "code",
   "execution_count": 6,
   "id": "b5ef886d",
   "metadata": {},
   "outputs": [
    {
     "name": "stdout",
     "output_type": "stream",
     "text": [
      "Index                 128\n",
      "timestamp       141886808\n",
      "posix_ts_int     20269544\n",
      "dtype: int64\n",
      "timestamp       object\n",
      "posix_ts_int     int64\n",
      "dtype: object\n"
     ]
    }
   ],
   "source": [
    "print(df_commits.memory_usage(deep=True))\n",
    "print(df_commits.dtypes)"
   ]
  },
  {
   "cell_type": "code",
   "execution_count": 7,
   "id": "d3fc2e4d",
   "metadata": {},
   "outputs": [
    {
     "name": "stdout",
     "output_type": "stream",
     "text": [
      "                   timestamp  posix_ts_int        new_datetime\n",
      "0  2005-04-16 17:20:36-05:00    1113690036 2005-04-16 22:20:36\n",
      "1  2005-04-16 17:20:36-05:00    1113690036 2005-04-16 22:20:36\n",
      "2  2005-04-16 17:20:36-05:00    1113690036 2005-04-16 22:20:36\n",
      "3  2005-04-16 17:20:36-05:00    1113690036 2005-04-16 22:20:36\n",
      "4  2005-04-16 17:20:36-05:00    1113690036 2005-04-16 22:20:36\n"
     ]
    }
   ],
   "source": [
    "df_commits[\"new_datetime\"] = pd.to_datetime(df_commits[\"posix_ts_int\"], unit=\"s\")\n",
    "print(df_commits.head())"
   ]
  },
  {
   "cell_type": "code",
   "execution_count": 23,
   "id": "45758cdb",
   "metadata": {},
   "outputs": [
    {
     "data": {
      "text/html": [
       "<div>\n",
       "<style scoped>\n",
       "    .dataframe tbody tr th:only-of-type {\n",
       "        vertical-align: middle;\n",
       "    }\n",
       "\n",
       "    .dataframe tbody tr th {\n",
       "        vertical-align: top;\n",
       "    }\n",
       "\n",
       "    .dataframe thead th {\n",
       "        text-align: right;\n",
       "    }\n",
       "</style>\n",
       "<table border=\"1\" class=\"dataframe\">\n",
       "  <thead>\n",
       "    <tr style=\"text-align: right;\">\n",
       "      <th></th>\n",
       "      <th>per_date</th>\n",
       "      <th>counts</th>\n",
       "    </tr>\n",
       "  </thead>\n",
       "  <tbody>\n",
       "    <tr>\n",
       "      <th>0</th>\n",
       "      <td>2005-04</td>\n",
       "      <td>18766</td>\n",
       "    </tr>\n",
       "    <tr>\n",
       "      <th>1</th>\n",
       "      <td>2005-05</td>\n",
       "      <td>3364</td>\n",
       "    </tr>\n",
       "    <tr>\n",
       "      <th>2</th>\n",
       "      <td>2005-06</td>\n",
       "      <td>6201</td>\n",
       "    </tr>\n",
       "    <tr>\n",
       "      <th>3</th>\n",
       "      <td>2005-07</td>\n",
       "      <td>4039</td>\n",
       "    </tr>\n",
       "    <tr>\n",
       "      <th>4</th>\n",
       "      <td>2005-08</td>\n",
       "      <td>3755</td>\n",
       "    </tr>\n",
       "    <tr>\n",
       "      <th>...</th>\n",
       "      <td>...</td>\n",
       "      <td>...</td>\n",
       "    </tr>\n",
       "    <tr>\n",
       "      <th>206</th>\n",
       "      <td>2022-06</td>\n",
       "      <td>14920</td>\n",
       "    </tr>\n",
       "    <tr>\n",
       "      <th>207</th>\n",
       "      <td>2022-07</td>\n",
       "      <td>18145</td>\n",
       "    </tr>\n",
       "    <tr>\n",
       "      <th>208</th>\n",
       "      <td>2022-08</td>\n",
       "      <td>11779</td>\n",
       "    </tr>\n",
       "    <tr>\n",
       "      <th>209</th>\n",
       "      <td>2022-09</td>\n",
       "      <td>15358</td>\n",
       "    </tr>\n",
       "    <tr>\n",
       "      <th>210</th>\n",
       "      <td>2022-10</td>\n",
       "      <td>3642</td>\n",
       "    </tr>\n",
       "  </tbody>\n",
       "</table>\n",
       "<p>211 rows × 2 columns</p>\n",
       "</div>"
      ],
      "text/plain": [
       "    per_date  counts\n",
       "0    2005-04   18766\n",
       "1    2005-05    3364\n",
       "2    2005-06    6201\n",
       "3    2005-07    4039\n",
       "4    2005-08    3755\n",
       "..       ...     ...\n",
       "206  2022-06   14920\n",
       "207  2022-07   18145\n",
       "208  2022-08   11779\n",
       "209  2022-09   15358\n",
       "210  2022-10    3642\n",
       "\n",
       "[211 rows x 2 columns]"
      ]
     },
     "execution_count": 23,
     "metadata": {},
     "output_type": "execute_result"
    }
   ],
   "source": [
    "import datetime\n",
    "by_period = pd.to_datetime(df_commits['new_datetime']).dt.to_period(\"M\").value_counts().sort_index()\n",
    "by_period.index = pd.PeriodIndex(by_period.index).to_series().astype(str)\n",
    "# by_period.index = by_period.index.to_timestamp(freq=\"M\")\n",
    "#by_period.index = by_period.index.to_series().astype(str)\n",
    "by_period = by_period.rename_axis('per_date').reset_index(name='counts')\n",
    "# by_period[\"per_date\"] = by_period['per_date'].apply(lambda x: x.strftime(\"%m/%Y\"))\n",
    "by_period"
   ]
  },
  {
   "cell_type": "code",
   "execution_count": 20,
   "id": "0e862e7b",
   "metadata": {},
   "outputs": [
    {
     "name": "stdout",
     "output_type": "stream",
     "text": [
      "per_date    object\n",
      "counts       int64\n",
      "dtype: object\n"
     ]
    }
   ],
   "source": [
    "print(by_period.dtypes)"
   ]
  },
  {
   "cell_type": "code",
   "execution_count": null,
   "id": "d950cd23",
   "metadata": {},
   "outputs": [
    {
     "name": "stdout",
     "output_type": "stream",
     "text": [
      "614 ms ± 6.1 ms per loop (mean ± std. dev. of 7 runs, 1 loop each)\n"
     ]
    }
   ],
   "source": [
    "%%timeit\n",
    "\n",
    "df_commits.to_parquet('test_parquet.parquet', engine='pyarrow', index=False)"
   ]
  },
  {
   "cell_type": "code",
   "execution_count": null,
   "id": "7ffae9b2",
   "metadata": {},
   "outputs": [
    {
     "name": "stdout",
     "output_type": "stream",
     "text": [
      "20.8 ms ± 51.2 µs per loop (mean ± std. dev. of 7 runs, 10 loops each)\n"
     ]
    }
   ],
   "source": [
    "%%timeit\n",
    "\n",
    "df_temp = pd.read_parquet('test_parquet.parquet')"
   ]
  },
  {
   "cell_type": "code",
   "execution_count": null,
   "id": "cc1fff4d",
   "metadata": {},
   "outputs": [
    {
     "name": "stdout",
     "output_type": "stream",
     "text": [
      "(2533693, 3)\n"
     ]
    }
   ],
   "source": [
    "print(df_commits.shape)"
   ]
  },
  {
   "cell_type": "code",
   "execution_count": null,
   "id": "aaafed99",
   "metadata": {},
   "outputs": [],
   "source": []
  }
 ],
 "metadata": {
  "kernelspec": {
   "display_name": "Python 3.10.7 64-bit",
   "language": "python",
   "name": "python3"
  },
  "language_info": {
   "codemirror_mode": {
    "name": "ipython",
    "version": 3
   },
   "file_extension": ".py",
   "mimetype": "text/x-python",
   "name": "python",
   "nbconvert_exporter": "python",
   "pygments_lexer": "ipython3",
   "version": "3.10.7"
  },
  "vscode": {
   "interpreter": {
    "hash": "b0fa6594d8f4cbf19f97940f81e996739fb7646882a419484c72d19e05852a7e"
   }
  }
 },
 "nbformat": 4,
 "nbformat_minor": 5
}
