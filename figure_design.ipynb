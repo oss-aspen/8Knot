{
 "cells": [
  {
   "cell_type": "markdown",
   "id": "d2cc9999",
   "metadata": {},
   "source": [
    "# Imports"
   ]
  },
  {
   "cell_type": "code",
   "execution_count": 1,
   "id": "0ad50e0b",
   "metadata": {},
   "outputs": [],
   "source": [
    "import logging\n",
    "import pandas as pd\n",
    "from db_manager.AugurInterface import AugurInterface\n",
    "import numpy as np\n",
    "import plotly.graph_objects as go\n",
    "from pages.utils.graph_utils import get_graph_time_values\n",
    "\n",
    "engine = None\n",
    "augur_db = None"
   ]
  },
  {
   "cell_type": "markdown",
   "id": "14c03032",
   "metadata": {},
   "source": [
    "# Load Configuration"
   ]
  },
  {
   "cell_type": "code",
   "execution_count": 2,
   "id": "655b4f6c",
   "metadata": {},
   "outputs": [],
   "source": [
    "def _load_config():\n",
    "    global engine\n",
    "    global augur_db\n",
    "    # Get config details\n",
    "    augur_db = AugurInterface()\n",
    "    augur_db.load_pconfig(\n",
    "        [\n",
    "            \"cali\",\n",
    "            \"!baseball21\",\n",
    "            \"chaoss.tv\",\n",
    "            \"5432\",\n",
    "            \"padres\",\n",
    "            \"augur_data\"\n",
    "        ]\n",
    "    )\n",
    "    engine = augur_db.get_engine()\n",
    "    if engine is None:\n",
    "        logging.critical(\"Could not get engine; check config or try later\")"
   ]
  },
  {
   "cell_type": "code",
   "execution_count": 3,
   "id": "ca0982b0",
   "metadata": {},
   "outputs": [
    {
     "name": "stdout",
     "output_type": "stream",
     "text": [
      "<class 'db_manager.AugurInterface.AugurInterface'>\n",
      "['cali', '!baseball21', 'chaoss.tv', '5432', 'padres', 'augur_data']\n"
     ]
    }
   ],
   "source": [
    "_load_config()\n",
    "print(type(augur_db))\n",
    "print(augur_db.package_config())"
   ]
  },
  {
   "cell_type": "markdown",
   "id": "b695e0cd",
   "metadata": {},
   "source": [
    "# Query Function"
   ]
  },
  {
   "cell_type": "code",
   "execution_count": 4,
   "id": "cdf159b8",
   "metadata": {},
   "outputs": [],
   "source": [
    "def issues_query(dbmc, repo):\n",
    "    \"\"\"\n",
    "    (Worker Query)\n",
    "    Executes SQL query against Augur database for issue data.\n",
    "\n",
    "    Args:\n",
    "    -----\n",
    "        dbmc (AugurInterface): Handles connection to Augur database, executes queries and returns results.\n",
    "\n",
    "        repo_ids ([str]): repos that SQL query is executed on.\n",
    "\n",
    "    Returns:\n",
    "    --------\n",
    "        dict: Results from SQL query, interpreted from pd.to_dict('records')\n",
    "    \"\"\"\n",
    "\n",
    "    logging.debug(\"ISSUES_DATA_QUERY - START\")\n",
    "\n",
    "    query_string = f\"\"\"\n",
    "                    SELECT\n",
    "                        --r.repo_name,\n",
    "                        --i.issue_id AS issue,\n",
    "                        --i.gh_issue_number AS issue_number,\n",
    "                        --i.gh_issue_id AS gh_issue,\n",
    "                        i.created_at AS created,\n",
    "                        i.closed_at AS closed\n",
    "                        --i.pull_request_id\n",
    "                    FROM\n",
    "                        repo r,\n",
    "                        issues i\n",
    "                    WHERE\n",
    "                        r.repo_id = i.repo_id AND\n",
    "                        i.repo_id = {repo}\n",
    "                    \"\"\"\n",
    "\n",
    "    # create database connection, load config, execute query above.\n",
    "    dbm = AugurInterface()\n",
    "    dbm.load_pconfig(dbmc)\n",
    "\n",
    "    df_issues = dbm.run_query(query_string)\n",
    "    \n",
    "    # check if query returned any rows of data.\n",
    "    # if there is no data, store no data -\n",
    "    # the existence of a job's result being empty is still\n",
    "    # useful for aggregation and informative to users.\n",
    "    if df_issues.shape[0] > 0:\n",
    "        # massage SQL timestampdz to Posix timestamp int64- much smaller than string or datetime object.\n",
    "        df_issues[\"created\"] = pd.to_datetime(df_issues[\"created\"], utc=True).map(pd.Timestamp.timestamp).astype(\"int64\")\n",
    "        # coerce means that invalid values are set to 'NaT', handling the error naturally.\n",
    "        df_issues[\"closed\"] = pd.to_datetime(df_issues[\"closed\"], utc=True, errors=\"coerce\")\n",
    "    #     print(type(df_issues[\"closed\"]))\n",
    "    #     df_issues[\"closed\"] = df_issues[\"closed\"].map(pd.Timestamp.timestamp).astype(\"int64\")\n",
    "\n",
    "        def posix_time_convert(time):\n",
    "            \"\"\"\n",
    "                Will try to convert a datetime64[ns, UTC] to\n",
    "                a pandas Timestamp object, and to then convert that to a posix timestamp.\n",
    "\n",
    "            Args:\n",
    "                time (datetime[ns, utc]): incoming datetime object to convert \n",
    "\n",
    "            Returns:\n",
    "                posix_time (np.int64) | (pd.NaT)\n",
    "            \"\"\"\n",
    "            try:\n",
    "                return int(pd.Timestamp.timestamp(time))\n",
    "            except:\n",
    "                return pd.NaT \n",
    "\n",
    "        # convert datetime[ns, utc] to integer posix timestamps if possible, NotaTime if not.\n",
    "        # types will be 'object' when printed because of the 'NaT' values but valid values are 'int64'\n",
    "        # .astype(errors='ignore') will skip values that can't be coerced to int64.\n",
    "        df_issues[\"closed\"] = df_issues[\"closed\"].map(posix_time_convert).astype(\"int64\", errors=\"ignore\")\n",
    "\n",
    "    # logging.debug(\"ISSUES_DATA_QUERY - END\")\n",
    "    return df_issues.to_dict(\"records\")"
   ]
  },
  {
   "cell_type": "code",
   "execution_count": 5,
   "id": "65f7fbe4",
   "metadata": {},
   "outputs": [
    {
     "name": "stdout",
     "output_type": "stream",
     "text": [
      "      created      closed\n",
      "0  1615658328  1665021342\n",
      "1  1648150585  1654731131\n",
      "2  1539734910  1540498539\n",
      "3  1551871204  1571874054\n",
      "4  1491937896  1492186601\n",
      "created     int64\n",
      "closed     object\n",
      "dtype: object\n"
     ]
    }
   ],
   "source": [
    "df = issues_query(augur_db.package_config(), \"36113\")\n",
    "df = pd.DataFrame(df).head()\n",
    "print(df)\n",
    "print(df.dtypes)"
   ]
  },
  {
   "cell_type": "markdown",
   "id": "43571035",
   "metadata": {},
   "source": [
    "# Data Processing"
   ]
  },
  {
   "cell_type": "code",
   "execution_count": 197,
   "id": "7b5794a5",
   "metadata": {},
   "outputs": [],
   "source": [
    "def process_data(results, period):\n",
    "    # load data into dataframe\n",
    "    df = pd.DataFrame(results)\n",
    "\n",
    "    # check that there are datapoints to render.\n",
    "    if df.shape[0] == 0:\n",
    "        return None\n",
    "\n",
    "    # from POSIX timestamp to datetime, sort in ascending order\n",
    "    df[\"created\"] = pd.to_datetime(df[\"created\"], unit=\"s\").sort_values().dropna()\n",
    "    df[\"closed\"] = pd.to_datetime(df[\"closed\"], unit=\"s\").sort_values().dropna()\n",
    "\n",
    "    # timestamps of issues being created \n",
    "    df_created = df[\"created\"]\n",
    "    # group data by period and count instances, sort by time from earlier to later\n",
    "    df_created = df_created.dt.to_period(period).value_counts().sort_index()\n",
    "    # because index is PeriodIndex we can convert to a series and then to a string easily\n",
    "    df_created.index = pd.PeriodIndex(df_created.index).to_series().astype(str)\n",
    "\n",
    "    # timestamps of when issues being closed\n",
    "    df_closed = df[\"closed\"]\n",
    "    # group data by period and count instances, sort by time from earlier to later\n",
    "    df_closed = df_closed.dt.to_period(period).value_counts().sort_index()\n",
    "    # because index is PeriodIndex we can convert to a series and then to a string easily\n",
    "    df_closed.index = pd.PeriodIndex(df_closed.index).to_series().astype(str)\n",
    "\n",
    "    min_date = df_created.index.min()\n",
    "    max_date = max([df_created.index.max(), df_closed.index.max()]) \n",
    "\n",
    "    df_date_range = pd.DataFrame(pd.date_range(start=min_date, end=max_date, freq=period).to_period(\"M\").astype(str)).reset_index(drop=True).set_index(0)\n",
    "    df_date_range = df_date_range.join([df_created, df_closed]).fillna(0)\n",
    "\n",
    "    return df_date_range "
   ]
  },
  {
   "cell_type": "code",
   "execution_count": 198,
   "id": "99ad093e",
   "metadata": {},
   "outputs": [
    {
     "name": "stdout",
     "output_type": "stream",
     "text": [
      "         created  closed\n",
      "0                       \n",
      "2017-01      7.0     1.0\n",
      "2017-02     10.0     7.0\n",
      "2017-03      5.0     1.0\n",
      "2017-04      8.0     7.0\n",
      "2017-05      1.0     3.0\n",
      "...          ...     ...\n",
      "2022-05      1.0     0.0\n",
      "2022-06      7.0    30.0\n",
      "2022-07      0.0     7.0\n",
      "2022-08      0.0     1.0\n",
      "2022-09      1.0     1.0\n",
      "\n",
      "[69 rows x 2 columns]\n",
      "created    float64\n",
      "closed     float64\n",
      "dtype: object\n"
     ]
    }
   ],
   "source": [
    "result = issues_query(augur_db.package_config(), \"36113\")\n",
    "df_result = process_data(result, \"M\")\n",
    "print(df_result)\n",
    "print(df_result.dtypes)"
   ]
  },
  {
   "cell_type": "markdown",
   "id": "290b16fa",
   "metadata": {},
   "source": [
    "# Create Figure"
   ]
  },
  {
   "cell_type": "code",
   "execution_count": 199,
   "id": "4f04d0e7",
   "metadata": {},
   "outputs": [],
   "source": [
    "def create_figure(df: pd.DataFrame, x_r, x_name, hover, interval):\n",
    "    fig = go.Figure()\n",
    "    fig.add_bar(\n",
    "        x=df.index,\n",
    "        y=df[\"created\"],\n",
    "        name=\"created\",\n",
    "        opacity=0.6,\n",
    "        hovertemplate=\"<b>%{x|%b '%y}</b> <br>Num Created: %{y}\" + \"<extra></extra>\"\n",
    "    )\n",
    "    fig.add_bar(\n",
    "        x=df.index,\n",
    "        y=df[\"closed\"],\n",
    "        name=\"closed\",\n",
    "        opacity=0.6,\n",
    "        hovertemplate=\"<b>%{x|%b '%y}</b> <br>Num Closed: %{y}\" + \"<extra></extra>\"\n",
    "    )\n",
    "    fig.update_xaxes(\n",
    "        showgrid=True,\n",
    "        rangeslider_yaxis_rangemode=\"match\",\n",
    "    )\n",
    "    fig.update_layout(\n",
    "        xaxis_title=x_name,\n",
    "        yaxis_title=\"Number of Issues\",\n",
    "        xaxis_tickformatstops = [\n",
    "            dict(dtickrange=[None, \"M3\"], value=\"%b '%y\"),\n",
    "            dict(dtickrange=[\"M3\", None], value=\"%Y\")\n",
    "        ]\n",
    "    )\n",
    "\n",
    "    return fig"
   ]
  },
  {
   "cell_type": "code",
   "execution_count": 200,
   "id": "2e38282f",
   "metadata": {},
   "outputs": [
    {
     "data": {
      "application/vnd.plotly.v1+json": {
       "config": {
        "plotlyServerURL": "https://plot.ly"
       },
       "data": [
        {
         "hovertemplate": "<b>%{x|%b '%y}</b> <br>Num Created: %{y}<extra></extra>",
         "name": "created",
         "opacity": 0.6,
         "type": "bar",
         "x": [
          "2017-01",
          "2017-02",
          "2017-03",
          "2017-04",
          "2017-05",
          "2017-06",
          "2017-07",
          "2017-08",
          "2017-09",
          "2017-10",
          "2017-11",
          "2017-12",
          "2018-01",
          "2018-02",
          "2018-03",
          "2018-04",
          "2018-05",
          "2018-06",
          "2018-07",
          "2018-08",
          "2018-09",
          "2018-10",
          "2018-11",
          "2018-12",
          "2019-01",
          "2019-02",
          "2019-03",
          "2019-04",
          "2019-05",
          "2019-06",
          "2019-07",
          "2019-08",
          "2019-09",
          "2019-10",
          "2019-11",
          "2019-12",
          "2020-01",
          "2020-02",
          "2020-03",
          "2020-04",
          "2020-05",
          "2020-06",
          "2020-07",
          "2020-08",
          "2020-09",
          "2020-10",
          "2020-11",
          "2020-12",
          "2021-01",
          "2021-02",
          "2021-03",
          "2021-04",
          "2021-05",
          "2021-06",
          "2021-07",
          "2021-08",
          "2021-09",
          "2021-10",
          "2021-11",
          "2021-12",
          "2022-01",
          "2022-02",
          "2022-03",
          "2022-04",
          "2022-05",
          "2022-06",
          "2022-07",
          "2022-08",
          "2022-09"
         ],
         "y": [
          7,
          10,
          5,
          8,
          1,
          0,
          0,
          0,
          2,
          2,
          1,
          4,
          7,
          10,
          10,
          3,
          6,
          13,
          3,
          28,
          8,
          10,
          3,
          14,
          9,
          2,
          8,
          9,
          1,
          2,
          2,
          7,
          16,
          15,
          2,
          0,
          6,
          10,
          14,
          6,
          6,
          19,
          2,
          3,
          10,
          8,
          9,
          4,
          1,
          5,
          10,
          7,
          4,
          3,
          29,
          17,
          1,
          3,
          4,
          0,
          0,
          11,
          5,
          23,
          1,
          7,
          0,
          0,
          1
         ]
        },
        {
         "hovertemplate": "<b>%{x|%b '%y}</b> <br>Num Closed: %{y}<extra></extra>",
         "name": "closed",
         "opacity": 0.6,
         "type": "bar",
         "x": [
          "2017-01",
          "2017-02",
          "2017-03",
          "2017-04",
          "2017-05",
          "2017-06",
          "2017-07",
          "2017-08",
          "2017-09",
          "2017-10",
          "2017-11",
          "2017-12",
          "2018-01",
          "2018-02",
          "2018-03",
          "2018-04",
          "2018-05",
          "2018-06",
          "2018-07",
          "2018-08",
          "2018-09",
          "2018-10",
          "2018-11",
          "2018-12",
          "2019-01",
          "2019-02",
          "2019-03",
          "2019-04",
          "2019-05",
          "2019-06",
          "2019-07",
          "2019-08",
          "2019-09",
          "2019-10",
          "2019-11",
          "2019-12",
          "2020-01",
          "2020-02",
          "2020-03",
          "2020-04",
          "2020-05",
          "2020-06",
          "2020-07",
          "2020-08",
          "2020-09",
          "2020-10",
          "2020-11",
          "2020-12",
          "2021-01",
          "2021-02",
          "2021-03",
          "2021-04",
          "2021-05",
          "2021-06",
          "2021-07",
          "2021-08",
          "2021-09",
          "2021-10",
          "2021-11",
          "2021-12",
          "2022-01",
          "2022-02",
          "2022-03",
          "2022-04",
          "2022-05",
          "2022-06",
          "2022-07",
          "2022-08",
          "2022-09"
         ],
         "y": [
          1,
          7,
          1,
          7,
          3,
          0,
          0,
          0,
          0,
          4,
          0,
          5,
          6,
          8,
          1,
          7,
          1,
          13,
          12,
          21,
          6,
          14,
          5,
          15,
          17,
          6,
          6,
          11,
          0,
          1,
          1,
          2,
          16,
          15,
          3,
          0,
          4,
          9,
          12,
          4,
          13,
          12,
          6,
          15,
          5,
          2,
          7,
          2,
          0,
          0,
          16,
          6,
          3,
          5,
          4,
          5,
          1,
          11,
          1,
          0,
          0,
          5,
          2,
          6,
          0,
          30,
          7,
          1,
          1
         ]
        }
       ],
       "layout": {
        "template": {
         "data": {
          "bar": [
           {
            "error_x": {
             "color": "#2a3f5f"
            },
            "error_y": {
             "color": "#2a3f5f"
            },
            "marker": {
             "line": {
              "color": "#E5ECF6",
              "width": 0.5
             },
             "pattern": {
              "fillmode": "overlay",
              "size": 10,
              "solidity": 0.2
             }
            },
            "type": "bar"
           }
          ],
          "barpolar": [
           {
            "marker": {
             "line": {
              "color": "#E5ECF6",
              "width": 0.5
             },
             "pattern": {
              "fillmode": "overlay",
              "size": 10,
              "solidity": 0.2
             }
            },
            "type": "barpolar"
           }
          ],
          "carpet": [
           {
            "aaxis": {
             "endlinecolor": "#2a3f5f",
             "gridcolor": "white",
             "linecolor": "white",
             "minorgridcolor": "white",
             "startlinecolor": "#2a3f5f"
            },
            "baxis": {
             "endlinecolor": "#2a3f5f",
             "gridcolor": "white",
             "linecolor": "white",
             "minorgridcolor": "white",
             "startlinecolor": "#2a3f5f"
            },
            "type": "carpet"
           }
          ],
          "choropleth": [
           {
            "colorbar": {
             "outlinewidth": 0,
             "ticks": ""
            },
            "type": "choropleth"
           }
          ],
          "contour": [
           {
            "colorbar": {
             "outlinewidth": 0,
             "ticks": ""
            },
            "colorscale": [
             [
              0,
              "#0d0887"
             ],
             [
              0.1111111111111111,
              "#46039f"
             ],
             [
              0.2222222222222222,
              "#7201a8"
             ],
             [
              0.3333333333333333,
              "#9c179e"
             ],
             [
              0.4444444444444444,
              "#bd3786"
             ],
             [
              0.5555555555555556,
              "#d8576b"
             ],
             [
              0.6666666666666666,
              "#ed7953"
             ],
             [
              0.7777777777777778,
              "#fb9f3a"
             ],
             [
              0.8888888888888888,
              "#fdca26"
             ],
             [
              1,
              "#f0f921"
             ]
            ],
            "type": "contour"
           }
          ],
          "contourcarpet": [
           {
            "colorbar": {
             "outlinewidth": 0,
             "ticks": ""
            },
            "type": "contourcarpet"
           }
          ],
          "heatmap": [
           {
            "colorbar": {
             "outlinewidth": 0,
             "ticks": ""
            },
            "colorscale": [
             [
              0,
              "#0d0887"
             ],
             [
              0.1111111111111111,
              "#46039f"
             ],
             [
              0.2222222222222222,
              "#7201a8"
             ],
             [
              0.3333333333333333,
              "#9c179e"
             ],
             [
              0.4444444444444444,
              "#bd3786"
             ],
             [
              0.5555555555555556,
              "#d8576b"
             ],
             [
              0.6666666666666666,
              "#ed7953"
             ],
             [
              0.7777777777777778,
              "#fb9f3a"
             ],
             [
              0.8888888888888888,
              "#fdca26"
             ],
             [
              1,
              "#f0f921"
             ]
            ],
            "type": "heatmap"
           }
          ],
          "heatmapgl": [
           {
            "colorbar": {
             "outlinewidth": 0,
             "ticks": ""
            },
            "colorscale": [
             [
              0,
              "#0d0887"
             ],
             [
              0.1111111111111111,
              "#46039f"
             ],
             [
              0.2222222222222222,
              "#7201a8"
             ],
             [
              0.3333333333333333,
              "#9c179e"
             ],
             [
              0.4444444444444444,
              "#bd3786"
             ],
             [
              0.5555555555555556,
              "#d8576b"
             ],
             [
              0.6666666666666666,
              "#ed7953"
             ],
             [
              0.7777777777777778,
              "#fb9f3a"
             ],
             [
              0.8888888888888888,
              "#fdca26"
             ],
             [
              1,
              "#f0f921"
             ]
            ],
            "type": "heatmapgl"
           }
          ],
          "histogram": [
           {
            "marker": {
             "pattern": {
              "fillmode": "overlay",
              "size": 10,
              "solidity": 0.2
             }
            },
            "type": "histogram"
           }
          ],
          "histogram2d": [
           {
            "colorbar": {
             "outlinewidth": 0,
             "ticks": ""
            },
            "colorscale": [
             [
              0,
              "#0d0887"
             ],
             [
              0.1111111111111111,
              "#46039f"
             ],
             [
              0.2222222222222222,
              "#7201a8"
             ],
             [
              0.3333333333333333,
              "#9c179e"
             ],
             [
              0.4444444444444444,
              "#bd3786"
             ],
             [
              0.5555555555555556,
              "#d8576b"
             ],
             [
              0.6666666666666666,
              "#ed7953"
             ],
             [
              0.7777777777777778,
              "#fb9f3a"
             ],
             [
              0.8888888888888888,
              "#fdca26"
             ],
             [
              1,
              "#f0f921"
             ]
            ],
            "type": "histogram2d"
           }
          ],
          "histogram2dcontour": [
           {
            "colorbar": {
             "outlinewidth": 0,
             "ticks": ""
            },
            "colorscale": [
             [
              0,
              "#0d0887"
             ],
             [
              0.1111111111111111,
              "#46039f"
             ],
             [
              0.2222222222222222,
              "#7201a8"
             ],
             [
              0.3333333333333333,
              "#9c179e"
             ],
             [
              0.4444444444444444,
              "#bd3786"
             ],
             [
              0.5555555555555556,
              "#d8576b"
             ],
             [
              0.6666666666666666,
              "#ed7953"
             ],
             [
              0.7777777777777778,
              "#fb9f3a"
             ],
             [
              0.8888888888888888,
              "#fdca26"
             ],
             [
              1,
              "#f0f921"
             ]
            ],
            "type": "histogram2dcontour"
           }
          ],
          "mesh3d": [
           {
            "colorbar": {
             "outlinewidth": 0,
             "ticks": ""
            },
            "type": "mesh3d"
           }
          ],
          "parcoords": [
           {
            "line": {
             "colorbar": {
              "outlinewidth": 0,
              "ticks": ""
             }
            },
            "type": "parcoords"
           }
          ],
          "pie": [
           {
            "automargin": true,
            "type": "pie"
           }
          ],
          "scatter": [
           {
            "fillpattern": {
             "fillmode": "overlay",
             "size": 10,
             "solidity": 0.2
            },
            "type": "scatter"
           }
          ],
          "scatter3d": [
           {
            "line": {
             "colorbar": {
              "outlinewidth": 0,
              "ticks": ""
             }
            },
            "marker": {
             "colorbar": {
              "outlinewidth": 0,
              "ticks": ""
             }
            },
            "type": "scatter3d"
           }
          ],
          "scattercarpet": [
           {
            "marker": {
             "colorbar": {
              "outlinewidth": 0,
              "ticks": ""
             }
            },
            "type": "scattercarpet"
           }
          ],
          "scattergeo": [
           {
            "marker": {
             "colorbar": {
              "outlinewidth": 0,
              "ticks": ""
             }
            },
            "type": "scattergeo"
           }
          ],
          "scattergl": [
           {
            "marker": {
             "colorbar": {
              "outlinewidth": 0,
              "ticks": ""
             }
            },
            "type": "scattergl"
           }
          ],
          "scattermapbox": [
           {
            "marker": {
             "colorbar": {
              "outlinewidth": 0,
              "ticks": ""
             }
            },
            "type": "scattermapbox"
           }
          ],
          "scatterpolar": [
           {
            "marker": {
             "colorbar": {
              "outlinewidth": 0,
              "ticks": ""
             }
            },
            "type": "scatterpolar"
           }
          ],
          "scatterpolargl": [
           {
            "marker": {
             "colorbar": {
              "outlinewidth": 0,
              "ticks": ""
             }
            },
            "type": "scatterpolargl"
           }
          ],
          "scatterternary": [
           {
            "marker": {
             "colorbar": {
              "outlinewidth": 0,
              "ticks": ""
             }
            },
            "type": "scatterternary"
           }
          ],
          "surface": [
           {
            "colorbar": {
             "outlinewidth": 0,
             "ticks": ""
            },
            "colorscale": [
             [
              0,
              "#0d0887"
             ],
             [
              0.1111111111111111,
              "#46039f"
             ],
             [
              0.2222222222222222,
              "#7201a8"
             ],
             [
              0.3333333333333333,
              "#9c179e"
             ],
             [
              0.4444444444444444,
              "#bd3786"
             ],
             [
              0.5555555555555556,
              "#d8576b"
             ],
             [
              0.6666666666666666,
              "#ed7953"
             ],
             [
              0.7777777777777778,
              "#fb9f3a"
             ],
             [
              0.8888888888888888,
              "#fdca26"
             ],
             [
              1,
              "#f0f921"
             ]
            ],
            "type": "surface"
           }
          ],
          "table": [
           {
            "cells": {
             "fill": {
              "color": "#EBF0F8"
             },
             "line": {
              "color": "white"
             }
            },
            "header": {
             "fill": {
              "color": "#C8D4E3"
             },
             "line": {
              "color": "white"
             }
            },
            "type": "table"
           }
          ]
         },
         "layout": {
          "annotationdefaults": {
           "arrowcolor": "#2a3f5f",
           "arrowhead": 0,
           "arrowwidth": 1
          },
          "autotypenumbers": "strict",
          "coloraxis": {
           "colorbar": {
            "outlinewidth": 0,
            "ticks": ""
           }
          },
          "colorscale": {
           "diverging": [
            [
             0,
             "#8e0152"
            ],
            [
             0.1,
             "#c51b7d"
            ],
            [
             0.2,
             "#de77ae"
            ],
            [
             0.3,
             "#f1b6da"
            ],
            [
             0.4,
             "#fde0ef"
            ],
            [
             0.5,
             "#f7f7f7"
            ],
            [
             0.6,
             "#e6f5d0"
            ],
            [
             0.7,
             "#b8e186"
            ],
            [
             0.8,
             "#7fbc41"
            ],
            [
             0.9,
             "#4d9221"
            ],
            [
             1,
             "#276419"
            ]
           ],
           "sequential": [
            [
             0,
             "#0d0887"
            ],
            [
             0.1111111111111111,
             "#46039f"
            ],
            [
             0.2222222222222222,
             "#7201a8"
            ],
            [
             0.3333333333333333,
             "#9c179e"
            ],
            [
             0.4444444444444444,
             "#bd3786"
            ],
            [
             0.5555555555555556,
             "#d8576b"
            ],
            [
             0.6666666666666666,
             "#ed7953"
            ],
            [
             0.7777777777777778,
             "#fb9f3a"
            ],
            [
             0.8888888888888888,
             "#fdca26"
            ],
            [
             1,
             "#f0f921"
            ]
           ],
           "sequentialminus": [
            [
             0,
             "#0d0887"
            ],
            [
             0.1111111111111111,
             "#46039f"
            ],
            [
             0.2222222222222222,
             "#7201a8"
            ],
            [
             0.3333333333333333,
             "#9c179e"
            ],
            [
             0.4444444444444444,
             "#bd3786"
            ],
            [
             0.5555555555555556,
             "#d8576b"
            ],
            [
             0.6666666666666666,
             "#ed7953"
            ],
            [
             0.7777777777777778,
             "#fb9f3a"
            ],
            [
             0.8888888888888888,
             "#fdca26"
            ],
            [
             1,
             "#f0f921"
            ]
           ]
          },
          "colorway": [
           "#636efa",
           "#EF553B",
           "#00cc96",
           "#ab63fa",
           "#FFA15A",
           "#19d3f3",
           "#FF6692",
           "#B6E880",
           "#FF97FF",
           "#FECB52"
          ],
          "font": {
           "color": "#2a3f5f"
          },
          "geo": {
           "bgcolor": "white",
           "lakecolor": "white",
           "landcolor": "#E5ECF6",
           "showlakes": true,
           "showland": true,
           "subunitcolor": "white"
          },
          "hoverlabel": {
           "align": "left"
          },
          "hovermode": "closest",
          "mapbox": {
           "style": "light"
          },
          "paper_bgcolor": "white",
          "plot_bgcolor": "#E5ECF6",
          "polar": {
           "angularaxis": {
            "gridcolor": "white",
            "linecolor": "white",
            "ticks": ""
           },
           "bgcolor": "#E5ECF6",
           "radialaxis": {
            "gridcolor": "white",
            "linecolor": "white",
            "ticks": ""
           }
          },
          "scene": {
           "xaxis": {
            "backgroundcolor": "#E5ECF6",
            "gridcolor": "white",
            "gridwidth": 2,
            "linecolor": "white",
            "showbackground": true,
            "ticks": "",
            "zerolinecolor": "white"
           },
           "yaxis": {
            "backgroundcolor": "#E5ECF6",
            "gridcolor": "white",
            "gridwidth": 2,
            "linecolor": "white",
            "showbackground": true,
            "ticks": "",
            "zerolinecolor": "white"
           },
           "zaxis": {
            "backgroundcolor": "#E5ECF6",
            "gridcolor": "white",
            "gridwidth": 2,
            "linecolor": "white",
            "showbackground": true,
            "ticks": "",
            "zerolinecolor": "white"
           }
          },
          "shapedefaults": {
           "line": {
            "color": "#2a3f5f"
           }
          },
          "ternary": {
           "aaxis": {
            "gridcolor": "white",
            "linecolor": "white",
            "ticks": ""
           },
           "baxis": {
            "gridcolor": "white",
            "linecolor": "white",
            "ticks": ""
           },
           "bgcolor": "#E5ECF6",
           "caxis": {
            "gridcolor": "white",
            "linecolor": "white",
            "ticks": ""
           }
          },
          "title": {
           "x": 0.05
          },
          "xaxis": {
           "automargin": true,
           "gridcolor": "white",
           "linecolor": "white",
           "ticks": "",
           "title": {
            "standoff": 15
           },
           "zerolinecolor": "white",
           "zerolinewidth": 2
          },
          "yaxis": {
           "automargin": true,
           "gridcolor": "white",
           "linecolor": "white",
           "ticks": "",
           "title": {
            "standoff": 15
           },
           "zerolinecolor": "white",
           "zerolinewidth": 2
          }
         }
        },
        "xaxis": {
         "rangeslider": {
          "yaxis": {
           "rangemode": "match"
          }
         },
         "showgrid": true,
         "tickformatstops": [
          {
           "dtickrange": [
            null,
            "M3"
           ],
           "value": "%b '%y"
          },
          {
           "dtickrange": [
            "M3",
            null
           ],
           "value": "%Y"
          }
         ],
         "title": {
          "text": "Year"
         }
        },
        "yaxis": {
         "title": {
          "text": "Number of Issues"
         }
        }
       }
      }
     },
     "metadata": {},
     "output_type": "display_data"
    }
   ],
   "source": [
    "interval = \"1M\"\n",
    "x_r, x_name, hover, period = get_graph_time_values(interval)\n",
    "\n",
    "result = issues_query(augur_db.package_config(), \"36113\")\n",
    "df_result = process_data(result, interval)\n",
    "fig = create_figure(df_result, x_r, x_name, hover, interval)\n",
    "fig.show()\n"
   ]
  },
  {
   "cell_type": "code",
   "execution_count": null,
   "id": "5a12f057",
   "metadata": {},
   "outputs": [],
   "source": []
  },
  {
   "cell_type": "code",
   "execution_count": null,
   "id": "5eec3d23",
   "metadata": {},
   "outputs": [],
   "source": []
  }
 ],
 "metadata": {
  "kernelspec": {
   "display_name": "Python 3.10.7 64-bit",
   "language": "python",
   "name": "python3"
  },
  "language_info": {
   "codemirror_mode": {
    "name": "ipython",
    "version": 3
   },
   "file_extension": ".py",
   "mimetype": "text/x-python",
   "name": "python",
   "nbconvert_exporter": "python",
   "pygments_lexer": "ipython3",
   "version": "3.10.7"
  },
  "vscode": {
   "interpreter": {
    "hash": "b0fa6594d8f4cbf19f97940f81e996739fb7646882a419484c72d19e05852a7e"
   }
  }
 },
 "nbformat": 4,
 "nbformat_minor": 5
}
